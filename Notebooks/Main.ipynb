{
 "cells": [
  {
   "cell_type": "code",
   "execution_count": 1,
   "metadata": {},
   "outputs": [
    {
     "name": "stdout",
     "output_type": "stream",
     "text": [
      "Collecting boto3\n",
      "  Downloading boto3-1.34.47-py3-none-any.whl (139 kB)\n",
      "Note: you may need to restart the kernel to use updated packages.\n"
     ]
    },
    {
     "name": "stderr",
     "output_type": "stream",
     "text": [
      "WARNING: You are using pip version 21.2.3; however, version 24.0 is available.\n",
      "You should consider upgrading via the 'C:\\Users\\Administrator\\AppData\\Local\\Programs\\Python\\Python39\\python.exe -m pip install --upgrade pip' command.\n"
     ]
    },
    {
     "name": "stdout",
     "output_type": "stream",
     "text": [
      "Collecting jmespath<2.0.0,>=0.7.1\n",
      "  Downloading jmespath-1.0.1-py3-none-any.whl (20 kB)\n",
      "Collecting botocore<1.35.0,>=1.34.47\n",
      "  Downloading botocore-1.34.47-py3-none-any.whl (12.0 MB)\n",
      "Collecting s3transfer<0.11.0,>=0.10.0\n",
      "  Downloading s3transfer-0.10.0-py3-none-any.whl (82 kB)\n",
      "Requirement already satisfied: python-dateutil<3.0.0,>=2.1 in c:\\users\\administrator\\appdata\\roaming\\python\\python39\\site-packages (from botocore<1.35.0,>=1.34.47->boto3) (2.8.1)\n",
      "Requirement already satisfied: urllib3<1.27,>=1.25.4 in c:\\users\\administrator\\appdata\\local\\programs\\python\\python39\\lib\\site-packages (from botocore<1.35.0,>=1.34.47->boto3) (1.26.6)\n",
      "Requirement already satisfied: six>=1.5 in c:\\users\\administrator\\appdata\\roaming\\python\\python39\\site-packages (from python-dateutil<3.0.0,>=2.1->botocore<1.35.0,>=1.34.47->boto3) (1.16.0)\n",
      "Installing collected packages: jmespath, botocore, s3transfer, boto3\n",
      "Successfully installed boto3-1.34.47 botocore-1.34.47 jmespath-1.0.1 s3transfer-0.10.0\n"
     ]
    }
   ],
   "source": [
    "pip install boto3\n"
   ]
  },
  {
   "cell_type": "code",
   "execution_count": 16,
   "metadata": {},
   "outputs": [],
   "source": [
    "import boto3\n",
    "\n",
    "bucket = \"pdfsunobucket\""
   ]
  },
  {
   "cell_type": "code",
   "execution_count": 14,
   "metadata": {},
   "outputs": [
    {
     "data": {
      "text/plain": [
       "True"
      ]
     },
     "execution_count": 14,
     "metadata": {},
     "output_type": "execute_result"
    }
   ],
   "source": [
    "\n",
    "#to check bucket contents in cli : aws s3 ls s3://textract-console-us-east-1-c23eb1d7-6fdb-498f-9b1d-06eacbf7fc11/\n",
    "\n",
    "\n",
    "def upload_file_to_s3(file_name, object_name=None):\n",
    "    \"\"\"\n",
    "    Upload a file to an S3 bucket\n",
    "\n",
    "    :param file_name: File to upload\n",
    "    :param object_name: S3 object name. If not specified, file_name is used\n",
    "    :return: True if file was uploaded, else False\n",
    "    \"\"\"\n",
    "    # If S3 object_name was not specified, use file_name\n",
    "    if object_name is None:\n",
    "        object_name = file_name\n",
    "\n",
    "    # Upload the file\n",
    "    s3_client = boto3.client('s3')\n",
    "    try:\n",
    "        s3_client.upload_file(file_name, bucket, object_name)\n",
    "    except Exception as e:\n",
    "        print(e)\n",
    "        return False\n",
    "    return True\n",
    "\n",
    "# Example usage\n",
    "upload_file_to_s3('C:/Users/Administrator/Desktop/PDF Suno/Bridging_the_Divide.pdf' , 'trial_pdf_1')\n"
   ]
  },
  {
   "cell_type": "code",
   "execution_count": 23,
   "metadata": {},
   "outputs": [
    {
     "name": "stdout",
     "output_type": "stream",
     "text": [
      "response: {'JobId': 'a97773ef03a67691cd6e896c517386deea8132f0e5b0496aa53de215b1c8127b', 'ResponseMetadata': {'RequestId': '56acb132-5cbc-4f2d-89c1-741b8c1573d3', 'HTTPStatusCode': 200, 'HTTPHeaders': {'x-amzn-requestid': '56acb132-5cbc-4f2d-89c1-741b8c1573d3', 'content-type': 'application/x-amz-json-1.1', 'content-length': '76', 'date': 'Thu, 22 Feb 2024 16:24:19 GMT'}, 'RetryAttempts': 0}}\n",
      "function call id: a97773ef03a67691cd6e896c517386deea8132f0e5b0496aa53de215b1c8127b\n",
      "is_job_complete ID: a97773ef03a67691cd6e896c517386deea8132f0e5b0496aa53de215b1c8127b\n",
      "Current job status: IN_PROGRESS\n",
      "Job is still in progress. Waiting before checking again...\n",
      "is_job_complete ID: a97773ef03a67691cd6e896c517386deea8132f0e5b0496aa53de215b1c8127b\n",
      "Current job status: IN_PROGRESS\n",
      "Job is still in progress. Waiting before checking again...\n",
      "is_job_complete ID: a97773ef03a67691cd6e896c517386deea8132f0e5b0496aa53de215b1c8127b\n",
      "Current job status: IN_PROGRESS\n",
      "Job is still in progress. Waiting before checking again...\n",
      "is_job_complete ID: a97773ef03a67691cd6e896c517386deea8132f0e5b0496aa53de215b1c8127b\n",
      "Current job status: SUCCEEDED\n",
      "Job completed successfully.\n",
      "get job results ID:  a97773ef03a67691cd6e896c517386deea8132f0e5b0496aa53de215b1c8127b\n",
      "Bridging the Divide: How Al Can Close\n",
      "Language Gaps and Foster Global\n",
      "Understanding\n",
      "Language barriers have long hindered communication, understanding, and collaboration across cultures.\n",
      "From trade negotiations to scientific exchange, the inability to seamlessly translate thoughts and ideas\n",
      "can lead to misunderstandings, missed opportunities, and even conflict. Fortunately, the emergence of\n",
      "Artificial Intelligence (AI) offers a glimmer of hope, promising to bridge these gaps and foster a more\n",
      "connected world.\n",
      "One of the most significant advantages of using AI for language translation lies in its accuracy and\n",
      "efficiency. Traditional machine translation techniques often struggled with nuances, idioms, and cultural\n",
      "references, leading to stilted and inaccurate translations. However, Al-powered translation systems\n",
      "utilize advanced neural networks that can learn from vast amounts of text data, allowing them to\n",
      "capture the subtle complexities of language and produce more natural and accurate translations. This\n",
      "can significantly improve communication and comprehension, fostering better collaboration and\n",
      "understanding across cultures.\n",
      "Furthermore, AI can go beyond simple translation and delve into the cultural context of language. By\n",
      "analyzing vast amounts of text and audio data, AI systems can learn cultural nuances, idioms, and\n",
      "humor, leading to translations that not only convey the literal meaning but also capture the intended\n",
      "tone and sentiment. This can prevent cultural misunderstandings and foster deeper connections\n",
      "between individuals from different backgrounds.\n",
      "However, it is important to acknowledge the potential challenges associated with using AI for language\n",
      "translation. Bias in training data can lead to discriminatory or inaccurate translations. Additionally, the\n",
      "ethical considerations of Al-powered translation, such as data privacy and cultural appropriation, need\n",
      "to be carefully addressed.\n",
      "In conclusion, AI holds immense potential to revolutionize language translation and bridge the\n",
      "communication gaps that have long divided us. By leveraging its accuracy, efficiency, and ability to\n",
      "understand cultural context, AI can facilitate more meaningful interactions, foster collaboration, and\n",
      "ultimately promote a more connected and understanding world. However, it is crucial to acknowledge\n",
      "and address the challenges associated with this technology to ensure its ethical and responsible\n",
      "development and deployment. As we move forward, Al can be a powerful tool for breaking down\n",
      "language barriers and building a more inclusive and interconnected future for all.\n"
     ]
    }
   ],
   "source": [
    "bucket_name = 'textract-console-us-east-1-c23eb1d7-6fdb-498f-9b1d-06eacbf7fc11'  # Replace with your actual bucket name\n",
    "\n",
    "def start_document_text_detection(document):\n",
    "    # Ensure the Textract client is initialized in the correct region\n",
    "    textract = boto3.client('textract', region_name='us-east-1')  # Replace 'us-east-1' with your bucket's region\n",
    "    response = textract.start_document_text_detection(\n",
    "        DocumentLocation={'S3Object': {'Bucket': bucket_name, 'Name': document}}\n",
    "    )\n",
    "    print (\"response:\", response)\n",
    "    return response['JobId']\n",
    "\n",
    "def is_job_complete(jobId):\n",
    "    \"\"\"\n",
    "    Check if the Textract job is complete and handle different statuses.\n",
    "    \"\"\"\n",
    "    print(\"is_job_complete ID:\", jobId)\n",
    "    textract = boto3.client('textract', region_name='us-east-1')\n",
    "    try:\n",
    "        response = textract.get_document_text_detection(JobId=jobId)\n",
    "        status = response[\"JobStatus\"]\n",
    "        print(\"Current job status:\", status)\n",
    "        \n",
    "        if status == \"SUCCEEDED\":\n",
    "            return True, response\n",
    "        elif status == \"FAILED\":\n",
    "            print(\"Job failed.\")\n",
    "            return False, response\n",
    "        else:\n",
    "            # For \"IN_PROGRESS\" and any other statuses\n",
    "            return False, response\n",
    "    except Exception as e:\n",
    "        print(f\"Error checking job status: {e}\")\n",
    "        # Decide how you want to handle exceptions. You might want to retry or fail the operation.\n",
    "        return False, None\n",
    "\n",
    "def get_job_results(jobId):\n",
    "    \"\"\"\n",
    "    Get the results of a completed Textract job\n",
    "    \"\"\"\n",
    "    print(\"get job results ID: \", jobId)\n",
    "    pages = []\n",
    "    textract = boto3.client('textract', region_name='us-east-1')\n",
    "    response = textract.get_document_text_detection(JobId=jobId)\n",
    "    pages.extend(response[\"Blocks\"])\n",
    "    \n",
    "    while \"NextToken\" in response:\n",
    "        response = textract.get_document_text_detection(JobId=jobId, NextToken=response[\"NextToken\"])\n",
    "        pages.extend(response[\"Blocks\"])\n",
    "    \n",
    "    return pages\n",
    "\n",
    "# Start the Textract job\n",
    "jobId = start_document_text_detection('trial_pdf_1')\n",
    "print(\"function call id:\",jobId)\n",
    "\n",
    "# Wait for the job to complete (you may want to implement a more robust waiting mechanism)\n",
    "while True:\n",
    "    jobComplete, response = is_job_complete(jobId)\n",
    "    if jobComplete:\n",
    "        print(\"Job completed successfully.\")\n",
    "        # Process the successful response here\n",
    "        break\n",
    "    elif response is None or response[\"JobStatus\"] == \"FAILED\":\n",
    "        # Handle failure or error in job status check\n",
    "        break\n",
    "    else:\n",
    "        print(\"Job is still in progress. Waiting before checking again...\")\n",
    "        time.sleep(10)  # Adjust sleep time as necessary based on expected job completion time\n",
    "\n",
    "# Get the job results\n",
    "results = get_job_results(jobId)\n",
    "\n",
    "# Extract text from the results\n",
    "text = \"\\n\".join([block[\"Text\"] for block in results if block[\"BlockType\"] == \"LINE\"])\n",
    "print(text)\n"
   ]
  },
  {
   "cell_type": "code",
   "execution_count": 24,
   "metadata": {},
   "outputs": [
    {
     "name": "stdout",
     "output_type": "stream",
     "text": [
      "विभाजन को दूर करना: सभी कैसे बंद हो सकते हैं\n",
      "लैंग्वेज गैप्स और फोस्टर ग्लोबल\n",
      "अंडरस्टैंडिंग\n",
      "भाषा की बाधाओं ने लंबे समय तक सभी संस्कृतियों में संचार, समझ और सहयोग में बाधा डाली है।\n",
      "व्यापार वार्ताओं से लेकर वैज्ञानिक आदान-प्रदान तक, विचारों और विचारों का निर्बाध रूप से अनुवाद करने में असमर्थता\n",
      "इससे गलतफहमी हो सकती है, अवसर छूट सकते हैं और यहां तक कि संघर्ष भी हो सकता है। सौभाग्य से, का उद्भव\n",
      "आर्टिफिशियल इंटेलिजेंस (AI) आशा की किरण पेश करता है, जो इन कमियों को दूर करने और इसे और अधिक बढ़ावा देने का वादा करता है\n",
      "कनेक्टेड वर्ल्ड।\n",
      "भाषा अनुवाद के लिए AI का उपयोग करने के सबसे महत्वपूर्ण लाभों में से एक इसकी सटीकता में निहित है और\n",
      "दक्षता। पारंपरिक मशीनी अनुवाद तकनीकें अक्सर बारीकियों, मुहावरों और सांस्कृतिक चीजों से जूझती हैं\n",
      "संदर्भ, जिसके कारण रुके हुए और गलत अनुवाद होते हैं। हालाँकि, AL-संचालित अनुवाद प्रणालियाँ\n",
      "उन्नत न्यूरल नेटवर्क का उपयोग करें, जो बड़ी मात्रा में टेक्स्ट डेटा से सीख सकते हैं, जिससे वे\n",
      "भाषा की सूक्ष्म जटिलताओं को कैप्चर करें और अधिक स्वाभाविक और सटीक अनुवाद तैयार करें। यह\n",
      "संचार और समझ में काफी सुधार कर सकता है, बेहतर सहयोग को बढ़ावा दे सकता है और\n",
      "सभी संस्कृतियों को समझना।\n",
      "इसके अलावा, AI सरल अनुवाद से परे जाकर भाषा के सांस्कृतिक संदर्भ में तल्लीन हो सकता है। के द्वारा\n",
      "बड़ी मात्रा में टेक्स्ट और ऑडियो डेटा का विश्लेषण करके, AI सिस्टम सांस्कृतिक बारीकियों, मुहावरों को सीख सकता है, और\n",
      "हास्य, ऐसे अनुवाद की ओर ले जाता है जो न केवल शाब्दिक अर्थ को व्यक्त करते हैं, बल्कि इच्छित को भी पकड़ते हैं\n",
      "स्वर और भावना। इससे सांस्कृतिक गलतफहमियों को रोका जा सकता है और गहरे संबंधों को बढ़ावा दिया जा सकता है।\n",
      "विभिन्न पृष्ठभूमियों के व्यक्तियों के बीच।\n",
      "हालांकि, भाषा के लिए AI का उपयोग करने से जुड़ी संभावित चुनौतियों को स्वीकार करना महत्वपूर्ण है\n",
      "अनुवाद। प्रशिक्षण डेटा में पूर्वाग्रह के कारण भेदभावपूर्ण या गलत अनुवाद हो सकते हैं। इसके अतिरिक्त,\n",
      "AL-संचालित अनुवाद के नैतिक विचार, जैसे कि डेटा गोपनीयता और सांस्कृतिक विनियोग, की आवश्यकता\n",
      "ध्यान से संबोधित किया जाना चाहिए।\n",
      "अंत में, AI में भाषा अनुवाद में क्रांति लाने और उसे पाटने की अपार संभावनाएं हैं\n",
      "संचार में खामियां जिन्होंने हमें लंबे समय तक विभाजित किया है। इसकी सटीकता, दक्षता और क्षमता का लाभ उठाकर\n",
      "सांस्कृतिक संदर्भ को समझते हुए, AI अधिक सार्थक बातचीत की सुविधा प्रदान कर सकता है, सहयोग को बढ़ावा दे सकता है, और\n",
      "अंतत: एक अधिक जुड़ी और समझने वाली दुनिया को बढ़ावा दें। हालांकि, इसे स्वीकार करना महत्वपूर्ण है\n",
      "और इस तकनीक से जुड़ी चुनौतियों का समाधान करना ताकि यह सुनिश्चित हो सके कि यह नैतिक और जिम्मेदार है\n",
      "विकास और परिनियोजन। जैसे-जैसे हम आगे बढ़ते हैं, Al टूटने का एक शक्तिशाली साधन बन सकता है\n",
      "भाषा की बाधाएं और सभी के लिए अधिक समावेशी और परस्पर जुड़े भविष्य का निर्माण करना।\n"
     ]
    }
   ],
   "source": [
    "# Initialize the Amazon Translate client\n",
    "translate_client = boto3.client(service_name='translate', region_name='us-east-1', use_ssl=True)\n",
    "\n",
    "# Your extracted text in English\n",
    "english_text = text\n",
    "# Translate the text from English to Hindi\n",
    "result = translate_client.translate_text(Text=english_text, \n",
    "                                         SourceLanguageCode=\"en\", \n",
    "                                         TargetLanguageCode=\"hi\")\n",
    "\n",
    "# The translated text in Hindi\n",
    "hindi_text = result.get('TranslatedText')\n",
    "\n",
    "print(hindi_text)"
   ]
  },
  {
   "cell_type": "code",
   "execution_count": null,
   "metadata": {},
   "outputs": [],
   "source": [
    "polly_client = boto3.client(service_name='polly', region_name='us-east-1', use_ssl=True)\n",
    "\n",
    "response = polly_client.synthesize_speech(VoiceId='Aditi',\n",
    "                                          OutputFormat='mp3',\n",
    "                                          Text=hindi_text,\n",
    "                                          LanguageCode='hi-IN')\n",
    "\n",
    "# Save the audio stream returned by Amazon Polly to a file\n",
    "with open('speech.mp3', 'wb') as file:\n",
    "    file.write(response['AudioStream'].read())\n"
   ]
  }
 ],
 "metadata": {
  "interpreter": {
   "hash": "11f1dc213e07634baa4c5c321dec03c05dafae643c50f20e6d1a492290c05dc2"
  },
  "kernelspec": {
   "display_name": "Python 3.9.7 64-bit",
   "name": "python3"
  },
  "language_info": {
   "codemirror_mode": {
    "name": "ipython",
    "version": 3
   },
   "file_extension": ".py",
   "mimetype": "text/x-python",
   "name": "python",
   "nbconvert_exporter": "python",
   "pygments_lexer": "ipython3",
   "version": "3.9.7"
  },
  "orig_nbformat": 4
 },
 "nbformat": 4,
 "nbformat_minor": 2
}
